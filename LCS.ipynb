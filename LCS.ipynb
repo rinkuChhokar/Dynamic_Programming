{
 "cells": [
  {
   "cell_type": "markdown",
   "id": "8714e8df",
   "metadata": {},
   "source": [
    "<h3> Longest Common Subsequence</h3>\n",
    "\n",
    "<h4> The time complexity of it is- 0(2^n)</h4>\n",
    "<h5> Naive Approach </h5>"
   ]
  },
  {
   "cell_type": "code",
   "execution_count": 7,
   "id": "13798d16",
   "metadata": {},
   "outputs": [
    {
     "name": "stdout",
     "output_type": "stream",
     "text": [
      "Length of lcs- 0\n"
     ]
    }
   ],
   "source": [
    "# lcs function-\n",
    "\n",
    "def lcs(X,Y,m,n):\n",
    "    \n",
    "    # if m or n(length of 1st and 2nd string) anyone is found to be of zero length-\n",
    "    if m == 0 or n==0:\n",
    "        return 0\n",
    "    \n",
    "    # else if both characters of the strings matches-\n",
    "    elif X[m-1] == Y[n-1]:\n",
    "        return 1 + lcs(X,Y,m-1,n-1)\n",
    "    \n",
    "    else:\n",
    "        return max(lcs(X,Y,m,n-1),lcs(X,Y,m-1,n))\n",
    "\n",
    "\n",
    "# let's define two strings-\n",
    "str1 = \"ABCTGB\"\n",
    "\n",
    "str2 = \"MDWSYP\"\n",
    "\n",
    "print(\"Length of lcs-\",lcs(str1,str2,len(str1),len(str2)))\n"
   ]
  },
  {
   "cell_type": "markdown",
   "id": "9c997988",
   "metadata": {},
   "source": [
    "<h4> Time Complexity is O(mn) </h4>\n",
    "<h5> Better Approach </h5>\n"
   ]
  },
  {
   "cell_type": "code",
   "execution_count": 13,
   "id": "08f5490a",
   "metadata": {
    "scrolled": true
   },
   "outputs": [
    {
     "name": "stdout",
     "output_type": "stream",
     "text": [
      "Length of lcs - 4\n"
     ]
    }
   ],
   "source": [
    "#lcs function-\n",
    "\n",
    "def lcs(X,Y):\n",
    "    \n",
    "    m = len(X)\n",
    "    n = len(Y)\n",
    "    \n",
    "    L = [[0]*(n+1) for i in range(m+1)]\n",
    "    \n",
    "    for i in range(m+1):\n",
    "        for j in range(n+1):\n",
    "            \n",
    "            if i == j == 0:\n",
    "                L[i][j] = 0\n",
    "            \n",
    "            elif X[i-1] == Y[j-1]:\n",
    "                \n",
    "                L[i][j] = L[i-1][j-1]+1\n",
    "                \n",
    "            else:\n",
    "                L[i][j] = max(L[i-1][j],L[i][j-1])\n",
    "                \n",
    "                \n",
    "    return L[m][n]            \n",
    "                \n",
    "\n",
    "# driver program\n",
    "\n",
    "# strings s1 and s2-\n",
    "X = \"AGGTAB\"\n",
    "Y = \"GXTXAYB\"\n",
    "\n",
    "print(\"Length of lcs -\",lcs(X,Y))"
   ]
  },
  {
   "cell_type": "code",
   "execution_count": null,
   "id": "67a2202b",
   "metadata": {},
   "outputs": [],
   "source": []
  }
 ],
 "metadata": {
  "kernelspec": {
   "display_name": "Python 3",
   "language": "python",
   "name": "python3"
  },
  "language_info": {
   "codemirror_mode": {
    "name": "ipython",
    "version": 3
   },
   "file_extension": ".py",
   "mimetype": "text/x-python",
   "name": "python",
   "nbconvert_exporter": "python",
   "pygments_lexer": "ipython3",
   "version": "3.9.2"
  }
 },
 "nbformat": 4,
 "nbformat_minor": 5
}
